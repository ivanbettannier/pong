{
 "cells": [
  {
   "cell_type": "code",
   "execution_count": 1,
   "id": "06e5d641-6590-421a-9ce0-9aef905a8af8",
   "metadata": {},
   "outputs": [
    {
     "name": "stdout",
     "output_type": "stream",
     "text": [
      "pygame 2.5.2 (SDL 2.28.3, Python 3.9.7)\n",
      "Hello from the pygame community. https://www.pygame.org/contribute.html\n",
      "Version de Pygame : 2.5.2\n"
     ]
    }
   ],
   "source": [
    "import pygame\n",
    "\n",
    "print(\"Version de Pygame :\", pygame.ver)\n"
   ]
  },
  {
   "cell_type": "code",
   "execution_count": null,
   "id": "125c1c24-0d40-4bdd-b791-18a258754ccb",
   "metadata": {},
   "outputs": [],
   "source": []
  }
 ],
 "metadata": {
  "kernelspec": {
   "display_name": "Python 3 (ipykernel)",
   "language": "python",
   "name": "python3"
  },
  "language_info": {
   "codemirror_mode": {
    "name": "ipython",
    "version": 3
   },
   "file_extension": ".py",
   "mimetype": "text/x-python",
   "name": "python",
   "nbconvert_exporter": "python",
   "pygments_lexer": "ipython3",
   "version": "3.9.7"
  }
 },
 "nbformat": 4,
 "nbformat_minor": 5
}
